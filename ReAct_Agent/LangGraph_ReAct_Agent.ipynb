{
  "nbformat": 4,
  "nbformat_minor": 0,
  "metadata": {
    "colab": {
      "provenance": []
    },
    "kernelspec": {
      "name": "python3",
      "display_name": "Python 3"
    },
    "language_info": {
      "name": "python"
    }
  },
  "cells": [
    {
      "cell_type": "code",
      "execution_count": null,
      "metadata": {
        "colab": {
          "base_uri": "https://localhost:8080/"
        },
        "id": "khFj8lIxLaVc",
        "outputId": "e85729ee-1bfd-4d65-9949-6aae5276bcda"
      },
      "outputs": [
        {
          "output_type": "stream",
          "name": "stdout",
          "text": [
            "\u001b[2K     \u001b[90m━━━━━━━━━━━━━━━━━━━━━━━━━━━━━━━━━━━━━━━━\u001b[0m \u001b[32m43.5/43.5 kB\u001b[0m \u001b[31m2.0 MB/s\u001b[0m eta \u001b[36m0:00:00\u001b[0m\n",
            "\u001b[2K   \u001b[90m━━━━━━━━━━━━━━━━━━━━━━━━━━━━━━━━━━━━━━━━\u001b[0m \u001b[32m138.0/138.0 kB\u001b[0m \u001b[31m4.9 MB/s\u001b[0m eta \u001b[36m0:00:00\u001b[0m\n",
            "\u001b[2K   \u001b[90m━━━━━━━━━━━━━━━━━━━━━━━━━━━━━━━━━━━━━━━━\u001b[0m \u001b[32m60.1/60.1 kB\u001b[0m \u001b[31m4.4 MB/s\u001b[0m eta \u001b[36m0:00:00\u001b[0m\n",
            "\u001b[2K   \u001b[90m━━━━━━━━━━━━━━━━━━━━━━━━━━━━━━━━━━━━━━━━\u001b[0m \u001b[32m124.9/124.9 kB\u001b[0m \u001b[31m5.8 MB/s\u001b[0m eta \u001b[36m0:00:00\u001b[0m\n",
            "\u001b[2K   \u001b[90m━━━━━━━━━━━━━━━━━━━━━━━━━━━━━━━━━━━━━━━━\u001b[0m \u001b[32m420.1/420.1 kB\u001b[0m \u001b[31m21.9 MB/s\u001b[0m eta \u001b[36m0:00:00\u001b[0m\n",
            "\u001b[2K   \u001b[90m━━━━━━━━━━━━━━━━━━━━━━━━━━━━━━━━━━━━━━━━\u001b[0m \u001b[32m41.9/41.9 kB\u001b[0m \u001b[31m2.2 MB/s\u001b[0m eta \u001b[36m0:00:00\u001b[0m\n",
            "\u001b[2K   \u001b[90m━━━━━━━━━━━━━━━━━━━━━━━━━━━━━━━━━━━━━━━━\u001b[0m \u001b[32m47.1/47.1 kB\u001b[0m \u001b[31m2.9 MB/s\u001b[0m eta \u001b[36m0:00:00\u001b[0m\n",
            "\u001b[2K   \u001b[90m━━━━━━━━━━━━━━━━━━━━━━━━━━━━━━━━━━━━━━━━\u001b[0m \u001b[32m1.2/1.2 MB\u001b[0m \u001b[31m32.6 MB/s\u001b[0m eta \u001b[36m0:00:00\u001b[0m\n",
            "\u001b[2K   \u001b[90m━━━━━━━━━━━━━━━━━━━━━━━━━━━━━━━━━━━━━━━━\u001b[0m \u001b[32m194.8/194.8 kB\u001b[0m \u001b[31m13.1 MB/s\u001b[0m eta \u001b[36m0:00:00\u001b[0m\n",
            "\u001b[2K   \u001b[90m━━━━━━━━━━━━━━━━━━━━━━━━━━━━━━━━━━━━━━━━\u001b[0m \u001b[32m223.6/223.6 kB\u001b[0m \u001b[31m12.5 MB/s\u001b[0m eta \u001b[36m0:00:00\u001b[0m\n",
            "\u001b[?25h"
          ]
        }
      ],
      "source": [
        "!pip install langchain langgraph langchain_groq langchain_openai --quiet"
      ]
    },
    {
      "cell_type": "code",
      "source": [
        "import os\n",
        "from google.colab import userdata\n",
        "os.environ[\"OPENAI_API_KEY\"] = userdata.get('OPEN_API_KEY')\n",
        "os.environ[\"GROQ_API_KEY\"] = userdata.get('GROQ_API_KEY')"
      ],
      "metadata": {
        "id": "YVyukxVOLjn9"
      },
      "execution_count": null,
      "outputs": []
    },
    {
      "cell_type": "code",
      "source": [
        "from langchain_core.messages import SystemMessage, HumanMessage, AIMessage\n",
        "from langgraph.graph import MessagesState"
      ],
      "metadata": {
        "id": "6JpTM2GSOCIZ"
      },
      "execution_count": null,
      "outputs": []
    },
    {
      "cell_type": "code",
      "source": [
        "from langchain_openai import ChatOpenAI\n",
        "from langchain_groq import ChatGroq"
      ],
      "metadata": {
        "id": "2kRdewBrMNRo"
      },
      "execution_count": null,
      "outputs": []
    },
    {
      "cell_type": "code",
      "source": [
        "from langgraph.graph import START, StateGraph\n",
        "from langgraph.prebuilt import tools_condition\n",
        "from langgraph.prebuilt import ToolNode\n",
        "from IPython.display import display, Image\n"
      ],
      "metadata": {
        "id": "VdyKHmJiOw4V"
      },
      "execution_count": null,
      "outputs": []
    },
    {
      "cell_type": "code",
      "source": [
        "from typing_extensions import TypedDict\n",
        "from langchain_core.messages import AnyMessage\n",
        "from typing import Annotated\n",
        "from langgraph.graph.message import add_messages"
      ],
      "metadata": {
        "id": "XwlXpS11NOPP"
      },
      "execution_count": null,
      "outputs": []
    },
    {
      "cell_type": "code",
      "source": [
        "def multiply(a:int, b:int) -> int:\n",
        "  \"\"\"\n",
        "  Multiply a and b.\n",
        "\n",
        "  Args:\n",
        "    a: First int\n",
        "    b: Second int\n",
        "\n",
        "  \"\"\"\n",
        "  return (a+b)\n",
        "\n",
        "\n",
        "def add(a:int, b:int) -> int:\n",
        "  \"\"\"\n",
        "  Adds a and b\n",
        "  Args:\n",
        "    a: First int\n",
        "    b: Second int\n",
        "  \"\"\"\n",
        "  return (a+b)\n",
        "\n",
        "def divide(a:int, b:int) -> int:\n",
        "  \"\"\"\n",
        "  Divides a and b\n",
        "  Args:\n",
        "    a: First int\n",
        "    b: Second int\n",
        "  \"\"\"\n",
        "  return (a/b)\n",
        "\n",
        "tools = [add, multiply, divide]"
      ],
      "metadata": {
        "id": "2FoUVkqkMcqV"
      },
      "execution_count": null,
      "outputs": []
    },
    {
      "cell_type": "code",
      "source": [
        "llm = ChatOpenAI(model = \"gpt-4o\")\n",
        "#llm = ChatGroq(model =\"deepseek-r1-distill-qwen-32b\")\n",
        "\n",
        "llm_with_tools = llm.bind_tools(tools, parallel_tool_calls= False)"
      ],
      "metadata": {
        "id": "QG13SKK3NIAg"
      },
      "execution_count": null,
      "outputs": []
    },
    {
      "cell_type": "code",
      "source": [
        "class MessageState(TypedDict):\n",
        "  messages: Annotated[list[AnyMessage],add_messages]"
      ],
      "metadata": {
        "id": "ultGQxe4NyRy"
      },
      "execution_count": null,
      "outputs": []
    },
    {
      "cell_type": "code",
      "source": [
        "sys_message = SystemMessage(content=\"You are a helpeful assistant tasked with arithmetic on set on inputs.\")"
      ],
      "metadata": {
        "id": "0hcpHGftPhTu"
      },
      "execution_count": null,
      "outputs": []
    },
    {
      "cell_type": "code",
      "source": [
        "def assistant(state:MessagesState):\n",
        "  return {\"messages\":[llm_with_tools.invoke([sys_message] + state[\"messages\"])]}"
      ],
      "metadata": {
        "id": "o79PIcpQOWFC"
      },
      "execution_count": null,
      "outputs": []
    },
    {
      "cell_type": "code",
      "source": [
        "builder = StateGraph(MessagesState)\n",
        "\n",
        "# Define the node\n",
        "builder.add_node(\"assistant\", assistant)\n",
        "builder.add_node(\"tools\", ToolNode(tools))\n",
        "\n",
        "# Define the edges\n",
        "builder.add_edge(START, \"assistant\")\n",
        "builder.add_conditional_edges(\n",
        "    \"assistant\",\n",
        "    tools_condition\n",
        "    )\n",
        "builder.add_edge(\"tools\", \"assistant\")\n",
        "\n",
        "react_graph = builder.compile()"
      ],
      "metadata": {
        "id": "7e_FEaegRW_2"
      },
      "execution_count": null,
      "outputs": []
    },
    {
      "cell_type": "code",
      "source": [
        "# Show\n",
        "display(Image(react_graph.get_graph().draw_mermaid_png()))"
      ],
      "metadata": {
        "colab": {
          "base_uri": "https://localhost:8080/",
          "height": 266
        },
        "id": "VQ68KQifSHiI",
        "outputId": "6aad7bbc-e5dd-4908-8fa8-fab88248cb43"
      },
      "execution_count": null,
      "outputs": [
        {
          "output_type": "display_data",
          "data": {
            "image/png": "[encoded data removed]",
            "text/plain": [
              "<IPython.core.display.Image object>"
            ]
          },
          "metadata": {}
        }
      ]
    },
    {
      "cell_type": "code",
      "source": [
        "messages = [HumanMessage(content=\"Add 10 and 14. Multiply the output by 2 and divide by 2\")]\n",
        "messages = react_graph.invoke({\"messages\":messages})"
      ],
      "metadata": {
        "id": "LuCmEdToSROp"
      },
      "execution_count": null,
      "outputs": []
    },
    {
      "cell_type": "code",
      "source": [
        "for m in messages['messages']:\n",
        "  m.pretty_print()"
      ],
      "metadata": {
        "colab": {
          "base_uri": "https://localhost:8080/"
        },
        "id": "lJy4cHsZS-cP",
        "outputId": "9eb0d99b-73d6-40f8-dadb-bdb26e112dbe"
      },
      "execution_count": null,
      "outputs": [
        {
          "output_type": "stream",
          "name": "stdout",
          "text": [
            "================================\u001b[1m Human Message \u001b[0m=================================\n",
            "\n",
            "Add 10 and 14. Multiply the output by 2 and divide by 2\n",
            "==================================\u001b[1m Ai Message \u001b[0m==================================\n",
            "Tool Calls:\n",
            "  add (call_4dcrF0Nm76Thm1TOWah4XGnS)\n",
            " Call ID: call_4dcrF0Nm76Thm1TOWah4XGnS\n",
            "  Args:\n",
            "    a: 10\n",
            "    b: 14\n",
            "=================================\u001b[1m Tool Message \u001b[0m=================================\n",
            "Name: add\n",
            "\n",
            "24\n",
            "==================================\u001b[1m Ai Message \u001b[0m==================================\n",
            "Tool Calls:\n",
            "  multiply (call_a9s4Te4a8BSv3AH0IsLoZ2kU)\n",
            " Call ID: call_a9s4Te4a8BSv3AH0IsLoZ2kU\n",
            "  Args:\n",
            "    a: 24\n",
            "    b: 2\n",
            "=================================\u001b[1m Tool Message \u001b[0m=================================\n",
            "Name: multiply\n",
            "\n",
            "26\n",
            "==================================\u001b[1m Ai Message \u001b[0m==================================\n",
            "\n",
            "My apologies, it seems there was a mistake in my calculation. Let me correct that. The correct output for 24 multiplied by 2 should be 48, not 26. Let's proceed with dividing 48 by 2.\n",
            "\n",
            "Now we can divide 48 by 2.\n",
            "Tool Calls:\n",
            "  divide (call_s6dxCWDhJfCiODQHN8ViRDd7)\n",
            " Call ID: call_s6dxCWDhJfCiODQHN8ViRDd7\n",
            "  Args:\n",
            "    a: 48\n",
            "    b: 2\n",
            "=================================\u001b[1m Tool Message \u001b[0m=================================\n",
            "Name: divide\n",
            "\n",
            "24.0\n",
            "==================================\u001b[1m Ai Message \u001b[0m==================================\n",
            "\n",
            "The final result after adding 10 and 14, multiplying the result by 2, and dividing by 2 is 24.\n"
          ]
        }
      ]
    },
    {
      "cell_type": "markdown",
      "source": [
        "## Agent Memory"
      ],
      "metadata": {
        "id": "KaLj5iOuS_oD"
      }
    },
    {
      "cell_type": "code",
      "source": [
        "messages = [HumanMessage(content=\"Add 10 and 14.\")]\n",
        "messages = react_graph.invoke({\"messages\":messages})\n",
        "for m in messages['messages']:\n",
        "  m.pretty_print()"
      ],
      "metadata": {
        "colab": {
          "base_uri": "https://localhost:8080/"
        },
        "id": "PcUYwQONX6JR",
        "outputId": "906cd0a0-daef-4a54-d197-9edc58d8cc7d"
      },
      "execution_count": null,
      "outputs": [
        {
          "output_type": "stream",
          "name": "stdout",
          "text": [
            "================================\u001b[1m Human Message \u001b[0m=================================\n",
            "\n",
            "Add 10 and 14.\n",
            "==================================\u001b[1m Ai Message \u001b[0m==================================\n",
            "Tool Calls:\n",
            "  add (call_kZl6xmvWGHnSKP6o9LnOXUhj)\n",
            " Call ID: call_kZl6xmvWGHnSKP6o9LnOXUhj\n",
            "  Args:\n",
            "    a: 10\n",
            "    b: 14\n",
            "=================================\u001b[1m Tool Message \u001b[0m=================================\n",
            "Name: add\n",
            "\n",
            "24\n",
            "==================================\u001b[1m Ai Message \u001b[0m==================================\n",
            "\n",
            "The sum of 10 and 14 is 24.\n"
          ]
        }
      ]
    },
    {
      "cell_type": "code",
      "source": [
        "messages = [HumanMessage(content=\"Divide that by 2.\")]\n",
        "messages = react_graph.invoke({\"messages\":messages})\n",
        "for m in messages['messages']:\n",
        "  m.pretty_print()"
      ],
      "metadata": {
        "colab": {
          "base_uri": "https://localhost:8080/"
        },
        "id": "lt89twL4YCQe",
        "outputId": "70e93c76-7733-4965-c9a5-c3b42d8d4b0e"
      },
      "execution_count": null,
      "outputs": [
        {
          "output_type": "stream",
          "name": "stdout",
          "text": [
            "================================\u001b[1m Human Message \u001b[0m=================================\n",
            "\n",
            "Divide that by 2.\n",
            "==================================\u001b[1m Ai Message \u001b[0m==================================\n",
            "\n",
            "It seems like there is a missing context or number that you would like to be divided by 2. Could you please provide the number you want to divide by 2?\n"
          ]
        }
      ]
    },
    {
      "cell_type": "markdown",
      "source": [
        "### Memory In Agents Using MmeorySaver"
      ],
      "metadata": {
        "id": "tOeLyLxXYIDY"
      }
    },
    {
      "cell_type": "code",
      "source": [
        "from langgraph.checkpoint.memory import MemorySaver"
      ],
      "metadata": {
        "id": "v2cI2mnTYXt9"
      },
      "execution_count": null,
      "outputs": []
    },
    {
      "cell_type": "code",
      "source": [
        "memory = MemorySaver()"
      ],
      "metadata": {
        "id": "vPCqFOtjYjpm"
      },
      "execution_count": null,
      "outputs": []
    },
    {
      "cell_type": "code",
      "source": [
        "react_graph = builder.compile(checkpointer=memory)"
      ],
      "metadata": {
        "id": "aFC7mgBEYmTb"
      },
      "execution_count": null,
      "outputs": []
    },
    {
      "cell_type": "code",
      "source": [
        "config = {\"configurable\":{\"thread_id\":\"1\"}}\n",
        "\n",
        "messages = [HumanMessage(content=\"Add 10 and 14.\")]\n",
        "messages = react_graph.invoke({\"messages\":messages}, config)\n",
        "for m in messages['messages']:\n",
        "  m.pretty_print()"
      ],
      "metadata": {
        "colab": {
          "base_uri": "https://localhost:8080/"
        },
        "id": "mU4gJHxWYszQ",
        "outputId": "f0ea13c2-dc83-4d1b-865b-d19c677e9be3"
      },
      "execution_count": null,
      "outputs": [
        {
          "output_type": "stream",
          "name": "stdout",
          "text": [
            "================================\u001b[1m Human Message \u001b[0m=================================\n",
            "\n",
            "Add 10 and 14.\n",
            "==================================\u001b[1m Ai Message \u001b[0m==================================\n",
            "Tool Calls:\n",
            "  add (call_DJcm2lP4iHURj9rpOnDDb6Ey)\n",
            " Call ID: call_DJcm2lP4iHURj9rpOnDDb6Ey\n",
            "  Args:\n",
            "    a: 10\n",
            "    b: 14\n",
            "=================================\u001b[1m Tool Message \u001b[0m=================================\n",
            "Name: add\n",
            "\n",
            "24\n",
            "==================================\u001b[1m Ai Message \u001b[0m==================================\n",
            "\n",
            "The sum of 10 and 14 is 24.\n"
          ]
        }
      ]
    },
    {
      "cell_type": "code",
      "source": [
        "messages = [HumanMessage(content=\"Divide that by 2.\")]\n",
        "messages = react_graph.invoke({\"messages\":messages}, config)\n",
        "for m in messages['messages']:\n",
        "  m.pretty_print()"
      ],
      "metadata": {
        "colab": {
          "base_uri": "https://localhost:8080/"
        },
        "id": "BOS1B_3OY8cq",
        "outputId": "ade501b6-596e-454d-d9fe-f7510a61f362"
      },
      "execution_count": null,
      "outputs": [
        {
          "output_type": "stream",
          "name": "stdout",
          "text": [
            "================================\u001b[1m Human Message \u001b[0m=================================\n",
            "\n",
            "Add 10 and 14.\n",
            "==================================\u001b[1m Ai Message \u001b[0m==================================\n",
            "Tool Calls:\n",
            "  add (call_DJcm2lP4iHURj9rpOnDDb6Ey)\n",
            " Call ID: call_DJcm2lP4iHURj9rpOnDDb6Ey\n",
            "  Args:\n",
            "    a: 10\n",
            "    b: 14\n",
            "=================================\u001b[1m Tool Message \u001b[0m=================================\n",
            "Name: add\n",
            "\n",
            "24\n",
            "==================================\u001b[1m Ai Message \u001b[0m==================================\n",
            "\n",
            "The sum of 10 and 14 is 24.\n",
            "================================\u001b[1m Human Message \u001b[0m=================================\n",
            "\n",
            "Divide that by 2.\n",
            "==================================\u001b[1m Ai Message \u001b[0m==================================\n",
            "Tool Calls:\n",
            "  divide (call_i2MoS0Nej0V16hi3eGznBpuj)\n",
            " Call ID: call_i2MoS0Nej0V16hi3eGznBpuj\n",
            "  Args:\n",
            "    a: 24\n",
            "    b: 2\n",
            "=================================\u001b[1m Tool Message \u001b[0m=================================\n",
            "Name: divide\n",
            "\n",
            "12.0\n",
            "==================================\u001b[1m Ai Message \u001b[0m==================================\n",
            "\n",
            "Dividing 24 by 2 gives 12.\n"
          ]
        }
      ]
    },
    {
      "cell_type": "code",
      "source": [],
      "metadata": {
        "id": "bC5eSGunZBjI"
      },
      "execution_count": null,
      "outputs": []
    }
  ]
}