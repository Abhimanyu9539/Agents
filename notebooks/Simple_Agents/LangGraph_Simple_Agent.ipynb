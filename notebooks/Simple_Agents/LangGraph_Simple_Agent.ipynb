{
  "nbformat": 4,
  "nbformat_minor": 0,
  "metadata": {
    "colab": {
      "provenance": []
    },
    "kernelspec": {
      "name": "python3",
      "display_name": "Python 3"
    },
    "language_info": {
      "name": "python"
    }
  },
  "cells": [
    {
      "cell_type": "code",
      "execution_count": null,
      "metadata": {
        "colab": {
          "base_uri": "https://localhost:8080/"
        },
        "id": "FrWlltNZPfrF",
        "outputId": "f95ec602-ff2a-4d00-de11-bc16f5da207d"
      },
      "outputs": [
        {
          "output_type": "stream",
          "name": "stdout",
          "text": [
            "\u001b[?25l     \u001b[90m━━━━━━━━━━━━━━━━━━━━━━━━━━━━━━━━━━━━━━━━\u001b[0m \u001b[32m0.0/43.5 kB\u001b[0m \u001b[31m?\u001b[0m eta \u001b[36m-:--:--\u001b[0m\r\u001b[2K     \u001b[90m━━━━━━━━━━━━━━━━━━━━━━━━━━━━━━━━━━━━━━━━\u001b[0m \u001b[32m43.5/43.5 kB\u001b[0m \u001b[31m1.7 MB/s\u001b[0m eta \u001b[36m0:00:00\u001b[0m\n",
            "\u001b[2K   \u001b[90m━━━━━━━━━━━━━━━━━━━━━━━━━━━━━━━━━━━━━━━━\u001b[0m \u001b[32m138.0/138.0 kB\u001b[0m \u001b[31m10.2 MB/s\u001b[0m eta \u001b[36m0:00:00\u001b[0m\n",
            "\u001b[2K   \u001b[90m━━━━━━━━━━━━━━━━━━━━━━━━━━━━━━━━━━━━━━━━\u001b[0m \u001b[32m41.9/41.9 kB\u001b[0m \u001b[31m2.6 MB/s\u001b[0m eta \u001b[36m0:00:00\u001b[0m\n",
            "\u001b[2K   \u001b[90m━━━━━━━━━━━━━━━━━━━━━━━━━━━━━━━━━━━━━━━━\u001b[0m \u001b[32m47.1/47.1 kB\u001b[0m \u001b[31m3.1 MB/s\u001b[0m eta \u001b[36m0:00:00\u001b[0m\n",
            "\u001b[2K   \u001b[90m━━━━━━━━━━━━━━━━━━━━━━━━━━━━━━━━━━━━━━━━\u001b[0m \u001b[32m194.8/194.8 kB\u001b[0m \u001b[31m14.4 MB/s\u001b[0m eta \u001b[36m0:00:00\u001b[0m\n",
            "\u001b[2K   \u001b[90m━━━━━━━━━━━━━━━━━━━━━━━━━━━━━━━━━━━━━━━━\u001b[0m \u001b[32m223.6/223.6 kB\u001b[0m \u001b[31m16.2 MB/s\u001b[0m eta \u001b[36m0:00:00\u001b[0m\n",
            "\u001b[?25h"
          ]
        }
      ],
      "source": [
        "!pip install langchain langgraph --quiet"
      ]
    },
    {
      "cell_type": "markdown",
      "source": [
        "## States"
      ],
      "metadata": {
        "id": "8qh5U36KQSAf"
      }
    },
    {
      "cell_type": "code",
      "source": [
        "from typing_extensions import TypedDict"
      ],
      "metadata": {
        "id": "Ux-572RPQTZk"
      },
      "execution_count": null,
      "outputs": []
    },
    {
      "cell_type": "code",
      "source": [
        "class State(TypedDict):\n",
        "  graph_state : str"
      ],
      "metadata": {
        "id": "kSqbwu3YQowh"
      },
      "execution_count": null,
      "outputs": []
    },
    {
      "cell_type": "markdown",
      "source": [
        "## Nodes"
      ],
      "metadata": {
        "id": "b4-jpFRIRHSd"
      }
    },
    {
      "cell_type": "code",
      "source": [
        "def first_node(state):\n",
        "  print(\"My first node is called.\")\n",
        "  return {\"graph_state\": state['graph_state'] + \"I am playing \"}\n",
        "\n",
        "def second_node(state):\n",
        "  print(\"My second node is called.\")\n",
        "  return {\"graph_state\": state['graph_state'] + \"Cricket \"}\n",
        "\n",
        "def third_node(state):\n",
        "  print(\"My third node is called.\")\n",
        "  return {\"graph_state\": state['graph_state'] + \"Video Game \" }\n",
        "\n",
        "def fourth_node(state):\n",
        "  print(\"Ny fourth node is called.\")\n",
        "  return {\"graph_state\": state['graph_state'] + \"on the ground.\"}\n",
        "\n",
        "def fifth_node(state):\n",
        "  print(\"My fifth node is called.\")\n",
        "  return {\"graph_state\": state['graph_state'] + \"on the ps5.\"}\n",
        "\n",
        "def sixth_node(state):\n",
        "  print(\"My sixth node is called.\")\n",
        "  return {\"graph_state\": state['graph_state'] + \"on the xbox.\"}\n",
        "\n",
        "def seventh_node(state):\n",
        "  print(\"My seventh node is called.\")\n",
        "  return {\"graph_state\": state['graph_state'] + \"on the switch.\"}"
      ],
      "metadata": {
        "id": "ti4jSkACRI5R"
      },
      "execution_count": null,
      "outputs": []
    },
    {
      "cell_type": "markdown",
      "source": [
        "## Edges"
      ],
      "metadata": {
        "id": "EpRU1Af5R1GV"
      }
    },
    {
      "cell_type": "code",
      "source": [
        "import random\n",
        "from typing import Literal"
      ],
      "metadata": {
        "id": "PCrDbbFKSYQs"
      },
      "execution_count": null,
      "outputs": []
    },
    {
      "cell_type": "code",
      "source": [
        "def decide_play(state) -> Literal[\"second_node\", \"third_node\"]:\n",
        "  graph_state = state[\"graph_state\"]\n",
        "\n",
        "  if random.random() < 0.5:\n",
        "    return \"second_node\"\n",
        "  return \"third_node\"\n",
        "\n",
        "def decide_game_station(state) -> Literal[\"sixth_node\",\"seventh_node\"]:\n",
        "  graph_state = state[\"graph_state\"]\n",
        "\n",
        "  if random.random() < 0.7:\n",
        "    return \"sixth_node\"\n",
        "  return \"seventh_node\"\n",
        "\n",
        "def decide_cricket_loc(state) -> Literal[\"fourth_node\", \"fifth_node\"]:\n",
        "  graph_state = state[\"graph_state\"]\n",
        "\n",
        "  if random.random() < 0.3:\n",
        "    return \"fourth_node\"\n",
        "  return \"fifth_node\""
      ],
      "metadata": {
        "id": "B32D2WyZSfY4"
      },
      "execution_count": null,
      "outputs": []
    },
    {
      "cell_type": "markdown",
      "source": [
        "## Graph"
      ],
      "metadata": {
        "id": "VZFkYbMCS1vU"
      }
    },
    {
      "cell_type": "code",
      "source": [
        "from IPython.display import Image, display\n",
        "from langgraph.graph import StateGraph, START, END"
      ],
      "metadata": {
        "id": "Kx1qx2QmTDab"
      },
      "execution_count": null,
      "outputs": []
    },
    {
      "cell_type": "code",
      "source": [
        "# Build Graph\n",
        "builder = StateGraph(State)\n",
        "\n",
        "builder.add_node(\"first_node\", first_node)\n",
        "builder.add_node(\"second_node\", second_node)\n",
        "builder.add_node(\"third_node\", third_node)\n",
        "builder.add_node(\"fourth_node\", fourth_node)\n",
        "builder.add_node(\"fifth_node\", fifth_node)\n",
        "builder.add_node(\"sixth_node\", sixth_node)\n",
        "builder.add_node(\"seventh_node\", seventh_node)\n",
        "\n",
        "## Build the conditional edges\n",
        "builder.add_edge(START, \"first_node\")\n",
        "builder.add_conditional_edges(\"first_node\", decide_play)\n",
        "builder.add_conditional_edges(\"second_node\", decide_cricket_loc)\n",
        "builder.add_conditional_edges(\"third_node\", decide_game_station)\n",
        "builder.add_edge(\"fourth_node\", END)\n",
        "builder.add_edge(\"fifth_node\", END)\n",
        "builder.add_edge(\"sixth_node\", END)\n",
        "builder.add_edge(\"seventh_node\", END)\n",
        "\n",
        "graph = builder.compile()"
      ],
      "metadata": {
        "id": "38U1npCpTNdI"
      },
      "execution_count": null,
      "outputs": []
    },
    {
      "cell_type": "code",
      "source": [
        "## View graph\n",
        "display(Image(graph.get_graph().draw_mermaid_png()))"
      ],
      "metadata": {
        "colab": {
          "base_uri": "https://localhost:8080/",
          "height": 449
        },
        "id": "BBcaZtB5TyNR",
        "outputId": "584d3fc6-68ff-4968-8b1c-0715c819063c"
      },
      "execution_count": null,
      "outputs": [
        {
          "output_type": "display_data",
          "data": {
            "image/png": "[encoded data removed]",
            "text/plain": [
              "<IPython.core.display.Image object>"
            ]
          },
          "metadata": {}
        }
      ]
    },
    {
      "cell_type": "code",
      "source": [
        "# Invoke agent\n",
        "graph.invoke({\"graph_state\":\"Hi,My name is Night,\"})"
      ],
      "metadata": {
        "colab": {
          "base_uri": "https://localhost:8080/"
        },
        "id": "fD89BJt5UAWw",
        "outputId": "875855ac-1b58-4767-810b-78e08fbbd053"
      },
      "execution_count": null,
      "outputs": [
        {
          "output_type": "stream",
          "name": "stdout",
          "text": [
            "My first node is called.\n",
            "My third node is called.\n",
            "My seventh node is called.\n"
          ]
        },
        {
          "output_type": "execute_result",
          "data": {
            "text/plain": [
              "{'graph_state': 'Hi,My name is Night,I am playing Video Game on the switch.'}"
            ]
          },
          "metadata": {},
          "execution_count": 63
        }
      ]
    }
  ]
}